{
 "cells": [
  {
   "cell_type": "markdown",
   "metadata": {},
   "source": [
    "## Question 1\n",
    "list1=[10,20,30,40,50] <br/>\n",
    "list2=[5,15,25,35,45,60] <br/>\n",
    "Merge the two lists and give output as follows with new list"
   ]
  },
  {
   "cell_type": "code",
   "execution_count": 8,
   "metadata": {},
   "outputs": [
    {
     "name": "stdout",
     "output_type": "stream",
     "text": [
      "Original list1: [10, 20, 30, 40, 50]\n",
      "\n",
      "Original list2: [5, 15, 25, 35, 45, 60]\n",
      "\n",
      "The combined sorted list is : [5, 10, 15, 20, 25, 30, 35, 40, 45, 50, 60]\n"
     ]
    }
   ],
   "source": [
    "list1 = [10,20,30,40,50] \n",
    "list2 = [5,15,25,35,45,60] \n",
    "\n",
    "size1 = len(list1) \n",
    "size2 = len(list2) \n",
    "  \n",
    "res = [] \n",
    "i, j = 0, 0\n",
    "\n",
    "print (f\"Original list1: {list1}\\n\")\n",
    "print (f\"Original list2: {list2}\\n\")\n",
    "\n",
    "while i < size1 and j < size2: \n",
    "    if list1[i] < list2[j]: \n",
    "      res.append(list1[i]) \n",
    "      i += 1\n",
    "  \n",
    "    else: \n",
    "      res.append(list2[j]) \n",
    "      j += 1\n",
    "  \n",
    "res = res + list1[i:] + list2[j:] \n",
    "\n",
    "print (f\"The combined sorted list is : {res}\")"
   ]
  },
  {
   "cell_type": "code",
   "execution_count": null,
   "metadata": {},
   "outputs": [],
   "source": []
  }
 ],
 "metadata": {
  "kernelspec": {
   "display_name": "Python 3",
   "language": "python",
   "name": "python3"
  },
  "language_info": {
   "codemirror_mode": {
    "name": "ipython",
    "version": 3
   },
   "file_extension": ".py",
   "mimetype": "text/x-python",
   "name": "python",
   "nbconvert_exporter": "python",
   "pygments_lexer": "ipython3",
   "version": "3.8.3"
  }
 },
 "nbformat": 4,
 "nbformat_minor": 4
}
