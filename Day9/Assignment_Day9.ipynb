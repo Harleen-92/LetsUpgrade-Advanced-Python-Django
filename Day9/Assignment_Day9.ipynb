{
 "cells": [
  {
   "cell_type": "markdown",
   "metadata": {},
   "source": [
    "## Question 1:\n",
    "Create a program to generate a password of length 12<br/>\n",
    "6 random == \"A-Z a-z\", 4 --> digits, 2 -- > special characters<br/>\n",
    "Expected Output: $ji12kt56yU# <br/>\n",
    "Not acceptable output: whiter1565#$ <br/>\n",
    "Note: Output should be a mix of all the things mentioned above."
   ]
  },
  {
   "cell_type": "code",
   "execution_count": 29,
   "metadata": {},
   "outputs": [
    {
     "name": "stdout",
     "output_type": "stream",
     "text": [
      "Random generated password: Z01F2A*;L5WD\n"
     ]
    }
   ],
   "source": [
    "import random\n",
    "import string\n",
    "\n",
    "def get_password(letters_count, digits_count, char_count):\n",
    "    sample_str = ''.join((random.choice(string.ascii_letters) for i in range(letters_count)))\n",
    "    sample_str += ''.join((random.choice(string.digits) for i in range(digits_count)))\n",
    "    sample_str += ''.join((random.choice(string.punctuation) for i in range(char_count)))\n",
    "    \n",
    "    # Convert string to list and shuffle it to mix letters and digits\n",
    "    sample_list = list(sample_str)\n",
    "    random.shuffle(sample_list)\n",
    "    final_string = ''.join(sample_list)\n",
    "    \n",
    "    return final_string\n",
    "\n",
    "# 6 letters, 4 digits and 2 characters\n",
    "print(\"Random generated password:\", get_password(6, 4, 2))\n"
   ]
  },
  {
   "cell_type": "code",
   "execution_count": null,
   "metadata": {},
   "outputs": [],
   "source": []
  },
  {
   "cell_type": "code",
   "execution_count": null,
   "metadata": {},
   "outputs": [],
   "source": []
  }
 ],
 "metadata": {
  "kernelspec": {
   "display_name": "Python 3",
   "language": "python",
   "name": "python3"
  },
  "language_info": {
   "codemirror_mode": {
    "name": "ipython",
    "version": 3
   },
   "file_extension": ".py",
   "mimetype": "text/x-python",
   "name": "python",
   "nbconvert_exporter": "python",
   "pygments_lexer": "ipython3",
   "version": "3.8.3"
  }
 },
 "nbformat": 4,
 "nbformat_minor": 4
}
